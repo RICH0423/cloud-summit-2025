{
  "nbformat": 4,
  "nbformat_minor": 0,
  "metadata": {
    "colab": {
      "provenance": []
    },
    "kernelspec": {
      "name": "python3",
      "display_name": "Python 3"
    },
    "language_info": {
      "name": "python"
    }
  },
  "cells": [
    {
      "cell_type": "markdown",
      "source": [
        "## WattTime API\n",
        "WattTime API 提供全球電網的即時數據、預測數據和歷史數據，包括邊際排放數據，其提供2種衡量電力碳排放的指標\n",
        "- API 文檔: https://docs.watttime.org/\n",
        "- 狀態頁面: https://status.watttime.org/\n",
        "- Map: https://watttime.org/docs-dev/coverage-map/\n",
        "- GitHub 範例: https://github.com/WattTime/watttime-python-client\n",
        "\n",
        "### WattTime提供2種衡量電力碳排放的指標\n",
        "1. 邊際運營排放率Marginal Operating Emissions Rate(MOER)：當電力負載增加或減少一單位時，電力系統排放的二氧化碳當量 CO2e會如何變化\n",
        "  - 用途: 優化電力使用時機，將高耗能活動移至碳排放較低的時段；評估新增負載的真實影響\n",
        "2. 平均運營排放率Average Operating Emissions Rate(AOER):在特定時間段內，整個電力系統每生產一單位電力（通常是每百萬瓦時 MWh 或每度電 kWh）所排放的平均溫室氣體量。\n",
        "  - 用途: 計算企業或產品的碳足跡，相對靜態，通常以年或月為單位進行計算。\n",
        "\n",
        "### 使用限制\n",
        "查詢 API 的速率有嚴格限制。對於任何用戶，我們允許在每5分鐘內發送最多 3,000 個請求（平均每秒 10 個請求）"
      ],
      "metadata": {
        "id": "o7QNT91pNMLk"
      }
    },
    {
      "cell_type": "markdown",
      "source": [
        "### Step1 註冊帳號\n",
        "1. 透過 /register 端點註冊一個帳戶\n",
        "2. 使用 /login 端點取得access token(30分鐘過期)\n",
        "3. 取得可存取區域與API endpoint"
      ],
      "metadata": {
        "id": "7_yquYyVtV98"
      }
    },
    {
      "cell_type": "code",
      "execution_count": null,
      "metadata": {
        "colab": {
          "base_uri": "https://localhost:8080/"
        },
        "id": "3T16Nu1z5UMa",
        "outputId": "6936ab93-b229-43c8-a7dd-a76eee7cf918"
      },
      "outputs": [
        {
          "output_type": "stream",
          "name": "stdout",
          "text": [
            "{'error': 'Failed to create user'}\n"
          ]
        }
      ],
      "source": [
        "import requests\n",
        "\n",
        "# 註冊新帳號\n",
        "registration_url = \"https://api2.watttime.org/v2/register\"\n",
        "\n",
        "# 填入使用者名稱與密碼，!!注意password (字母、數字和特殊字元各至少 1 個)\n",
        "params = {\n",
        "    \"username\": username,\n",
        "    \"password\": password,\n",
        "    \"email\": \"richlee0423@gmail.com\",\n",
        "    \"org\": \"rich\"\n",
        "}\n",
        "response = requests.post(registration_url, json=params)\n",
        "print(response.json())  # {'ok': 'User created'}"
      ]
    },
    {
      "cell_type": "code",
      "source": [
        "from google.colab import userdata\n",
        "\n",
        "username = userdata.get('USERNAME')\n",
        "password = userdata.get('PASSWORD')"
      ],
      "metadata": {
        "id": "DPuwhcsJu0tp"
      },
      "execution_count": 1,
      "outputs": []
    },
    {
      "cell_type": "code",
      "source": [
        "# 取得存取權杖\n",
        "def get_token():\n",
        "    login_url = \"https://api2.watttime.org/v2/login\"\n",
        "    response = requests.get(login_url, auth=(username, password))\n",
        "    return response.json()['token']"
      ],
      "metadata": {
        "id": "x4tu5bDM5weg"
      },
      "execution_count": 2,
      "outputs": []
    },
    {
      "cell_type": "code",
      "source": [
        "!pip install watttime"
      ],
      "metadata": {
        "colab": {
          "base_uri": "https://localhost:8080/"
        },
        "id": "6hj8lQwF_HvQ",
        "outputId": "083cd1b0-f11d-44b7-8e08-ee7a423fbc21"
      },
      "execution_count": 3,
      "outputs": [
        {
          "output_type": "stream",
          "name": "stdout",
          "text": [
            "Collecting watttime\n",
            "  Downloading watttime-1.3.2-py3-none-any.whl.metadata (7.5 kB)\n",
            "Requirement already satisfied: requests in /usr/local/lib/python3.11/dist-packages (from watttime) (2.32.3)\n",
            "Requirement already satisfied: pandas>1.0.0 in /usr/local/lib/python3.11/dist-packages (from watttime) (2.2.2)\n",
            "Requirement already satisfied: holidays in /usr/local/lib/python3.11/dist-packages (from watttime) (0.75)\n",
            "Requirement already satisfied: python-dateutil in /usr/local/lib/python3.11/dist-packages (from watttime) (2.9.0.post0)\n",
            "Requirement already satisfied: numpy>=1.23.2 in /usr/local/lib/python3.11/dist-packages (from pandas>1.0.0->watttime) (2.0.2)\n",
            "Requirement already satisfied: pytz>=2020.1 in /usr/local/lib/python3.11/dist-packages (from pandas>1.0.0->watttime) (2025.2)\n",
            "Requirement already satisfied: tzdata>=2022.7 in /usr/local/lib/python3.11/dist-packages (from pandas>1.0.0->watttime) (2025.2)\n",
            "Requirement already satisfied: six>=1.5 in /usr/local/lib/python3.11/dist-packages (from python-dateutil->watttime) (1.17.0)\n",
            "Requirement already satisfied: charset-normalizer<4,>=2 in /usr/local/lib/python3.11/dist-packages (from requests->watttime) (3.4.2)\n",
            "Requirement already satisfied: idna<4,>=2.5 in /usr/local/lib/python3.11/dist-packages (from requests->watttime) (3.10)\n",
            "Requirement already satisfied: urllib3<3,>=1.21.1 in /usr/local/lib/python3.11/dist-packages (from requests->watttime) (2.4.0)\n",
            "Requirement already satisfied: certifi>=2017.4.17 in /usr/local/lib/python3.11/dist-packages (from requests->watttime) (2025.6.15)\n",
            "Downloading watttime-1.3.2-py3-none-any.whl (10 kB)\n",
            "Installing collected packages: watttime\n",
            "Successfully installed watttime-1.3.2\n"
          ]
        }
      ]
    },
    {
      "cell_type": "markdown",
      "source": [],
      "metadata": {
        "id": "orCKdlxxvnqT"
      }
    },
    {
      "cell_type": "code",
      "source": [
        "# 取得可存取區域與API endpoint\n",
        "url = \"https://api.watttime.org/v3/my-access\"\n",
        "\n",
        "TOKEN = get_token()\n",
        "headers = {\"Authorization\": f\"Bearer {TOKEN}\"}\n",
        "params = {}\n",
        "response = requests.get(url, headers=headers, params=params)\n",
        "response.raise_for_status()\n",
        "print(response.json())"
      ],
      "metadata": {
        "colab": {
          "base_uri": "https://localhost:8080/"
        },
        "id": "SWZ8UEmfvI6C",
        "outputId": "424af65f-cad2-4c4d-99a1-bb33334d1372"
      },
      "execution_count": 4,
      "outputs": [
        {
          "output_type": "stream",
          "name": "stdout",
          "text": [
            "{'signal_types': [{'signal_type': 'co2_moer', 'regions': [{'region': 'CAISO_NORTH', 'region_full_name': 'California ISO Northern', 'parent': 'CAISO', 'data_point_period_seconds': 300, 'endpoints': [{'endpoint': 'v3/historical', 'models': [{'model': '2022-10-01', 'data_start': '2020-01-01', 'data_end': '2024-12-04', 'train_start': '2020-03-01', 'train_end': '2022-03-01', 'type': 'binned_regression'}, {'model': '2023-03-01', 'data_start': '2020-03-01', 'data_end': None, 'train_start': '2021-01-01', 'train_end': '2023-03-01', 'type': 'binned_regression'}]}, {'endpoint': 'v3/forecast', 'models': [{'model': '2022-10-01', 'data_start': '2024-08-20', 'data_end': '2024-11-20', 'train_start': '2020-01-01', 'train_end': '2021-12-31', 'historical_model': '2022-10-01'}, {'model': '2023-03-01', 'data_start': '2024-08-20', 'data_end': None, 'train_start': '2021-01-01', 'train_end': '2023-01-01', 'historical_model': '2023-03-01'}]}]}]}, {'signal_type': 'health_damage', 'regions': [{'region': 'CAISO_NORTH', 'region_full_name': 'California ISO Northern', 'parent': 'CAISO', 'data_point_period_seconds': 300, 'endpoints': [{'endpoint': 'v3/historical', 'models': [{'model': '2022-10-01', 'data_start': '2020-01-01', 'data_end': '2024-12-04', 'train_start': '2020-03-01', 'train_end': '2022-03-01', 'type': 'binned_regression'}]}, {'endpoint': 'v3/forecast', 'models': [{'model': '2022-10-01', 'data_start': '2024-08-20', 'data_end': None, 'train_start': '2020-01-01', 'train_end': '2021-12-31', 'historical_model': '2022-10-01'}]}]}]}]}\n"
          ]
        }
      ]
    },
    {
      "cell_type": "markdown",
      "source": [
        "### Step2 取得碳強度預測\n"
      ],
      "metadata": {
        "id": "RNRlv882dFjT"
      }
    },
    {
      "cell_type": "code",
      "source": [
        "# 取得未來 24 小時預測\n",
        "def get_forecast(ba_code):\n",
        "    url = \"https://api.watttime.org/v3/forecast\"\n",
        "    params = {\n",
        "      \"region\": ba_code,\n",
        "      \"signal_type\": \"co2_moer\",\n",
        "    }\n",
        "    headers = {\"Authorization\": f\"Bearer {get_token()}\"}\n",
        "    try:\n",
        "        response = requests.get(url, headers=headers, params=params)\n",
        "        response.raise_for_status()\n",
        "\n",
        "        forecast_data = response.json()[\"data\"]\n",
        "        print(forecast_data)\n",
        "\n",
        "        # 解析預測數據\n",
        "        if forecast_data and len(forecast_data) > 0:\n",
        "            forecasts = []\n",
        "            for item in forecast_data:\n",
        "                forecasts.append({\n",
        "                    \"timestamp\": item[\"point_time\"],\n",
        "                    \"value\": item[\"value\"]\n",
        "                })\n",
        "            return forecasts\n",
        "        else:\n",
        "            print(\"No forecast data available\")\n",
        "            return []\n",
        "\n",
        "    except requests.exceptions.RequestException as e:\n",
        "        print(f\"API Error: {e}\")\n",
        "        if hasattr(e, 'response') and e.response is not None:\n",
        "            print(f\"Response content: {e.response.text}\")\n",
        "        return []"
      ],
      "metadata": {
        "id": "2VGTYJBl6sOm"
      },
      "execution_count": 5,
      "outputs": []
    },
    {
      "cell_type": "code",
      "source": [
        "get_forecast(\"CAISO_NORTH\")"
      ],
      "metadata": {
        "id": "exOEDSblOVBl"
      },
      "execution_count": null,
      "outputs": []
    },
    {
      "cell_type": "code",
      "source": [
        "# 找出最佳執行時段\n",
        "def find_best_time_window(ba_code, duration_hours=2):\n",
        "    forecasts = get_forecast(ba_code)\n",
        "\n",
        "    if not forecasts:\n",
        "        return None\n",
        "\n",
        "    # 計算移動平均找出最低碳強度時段\n",
        "    best_window = {\"start\": None, \"avg_intensity\": float('inf')}\n",
        "\n",
        "    # 預測數據通常是 5 分鐘間隔\n",
        "    window_size = duration_hours * 12  # 每小時 12 個 5 分鐘間隔\n",
        "\n",
        "    for i in range(len(forecasts) - window_size + 1):\n",
        "        window_data = forecasts[i:i + window_size]\n",
        "        avg_intensity = sum(f[\"value\"] for f in window_data) / len(window_data)\n",
        "\n",
        "        if avg_intensity < best_window[\"avg_intensity\"]:\n",
        "            best_window = {\n",
        "                \"start\": window_data[0][\"timestamp\"],\n",
        "                \"end\": window_data[-1][\"timestamp\"],\n",
        "                \"avg_intensity\": avg_intensity\n",
        "            }\n",
        "\n",
        "    return best_window\n",
        "find_best_time_window(\"CAISO_NORTH\")"
      ],
      "metadata": {
        "colab": {
          "base_uri": "https://localhost:8080/"
        },
        "id": "dkiB6DnhAPy5",
        "outputId": "ea19247b-bfd2-47fa-d2a5-256b631e6f27"
      },
      "execution_count": 8,
      "outputs": [
        {
          "output_type": "stream",
          "name": "stdout",
          "text": [
            "[{'point_time': '2025-07-02T06:10:00+00:00', 'value': 945.5}, {'point_time': '2025-07-02T06:15:00+00:00', 'value': 945.5}, {'point_time': '2025-07-02T06:20:00+00:00', 'value': 943.0}, {'point_time': '2025-07-02T06:25:00+00:00', 'value': 944.1}, {'point_time': '2025-07-02T06:30:00+00:00', 'value': 944.6}, {'point_time': '2025-07-02T06:35:00+00:00', 'value': 943.7}, {'point_time': '2025-07-02T06:40:00+00:00', 'value': 940.6}, {'point_time': '2025-07-02T06:45:00+00:00', 'value': 939.6}, {'point_time': '2025-07-02T06:50:00+00:00', 'value': 941.6}, {'point_time': '2025-07-02T06:55:00+00:00', 'value': 937.5}, {'point_time': '2025-07-02T07:00:00+00:00', 'value': 935.0}, {'point_time': '2025-07-02T07:05:00+00:00', 'value': 932.7}, {'point_time': '2025-07-02T07:10:00+00:00', 'value': 932.7}, {'point_time': '2025-07-02T07:15:00+00:00', 'value': 933.6}, {'point_time': '2025-07-02T07:20:00+00:00', 'value': 932.9}, {'point_time': '2025-07-02T07:25:00+00:00', 'value': 934.3}, {'point_time': '2025-07-02T07:30:00+00:00', 'value': 933.9}, {'point_time': '2025-07-02T07:35:00+00:00', 'value': 932.4}, {'point_time': '2025-07-02T07:40:00+00:00', 'value': 933.1}, {'point_time': '2025-07-02T07:45:00+00:00', 'value': 931.5}, {'point_time': '2025-07-02T07:50:00+00:00', 'value': 931.7}, {'point_time': '2025-07-02T07:55:00+00:00', 'value': 931.9}, {'point_time': '2025-07-02T08:00:00+00:00', 'value': 927.2}, {'point_time': '2025-07-02T08:05:00+00:00', 'value': 926.0}, {'point_time': '2025-07-02T08:10:00+00:00', 'value': 922.1}, {'point_time': '2025-07-02T08:15:00+00:00', 'value': 921.7}, {'point_time': '2025-07-02T08:20:00+00:00', 'value': 922.5}, {'point_time': '2025-07-02T08:25:00+00:00', 'value': 920.2}, {'point_time': '2025-07-02T08:30:00+00:00', 'value': 921.3}, {'point_time': '2025-07-02T08:35:00+00:00', 'value': 916.7}, {'point_time': '2025-07-02T08:40:00+00:00', 'value': 917.2}, {'point_time': '2025-07-02T08:45:00+00:00', 'value': 912.5}, {'point_time': '2025-07-02T08:50:00+00:00', 'value': 910.2}, {'point_time': '2025-07-02T08:55:00+00:00', 'value': 908.8}, {'point_time': '2025-07-02T09:00:00+00:00', 'value': 907.9}, {'point_time': '2025-07-02T09:05:00+00:00', 'value': 912.8}, {'point_time': '2025-07-02T09:10:00+00:00', 'value': 914.4}, {'point_time': '2025-07-02T09:15:00+00:00', 'value': 915.6}, {'point_time': '2025-07-02T09:20:00+00:00', 'value': 915.1}, {'point_time': '2025-07-02T09:25:00+00:00', 'value': 913.8}, {'point_time': '2025-07-02T09:30:00+00:00', 'value': 913.0}, {'point_time': '2025-07-02T09:35:00+00:00', 'value': 912.9}, {'point_time': '2025-07-02T09:40:00+00:00', 'value': 912.7}, {'point_time': '2025-07-02T09:45:00+00:00', 'value': 917.1}, {'point_time': '2025-07-02T09:50:00+00:00', 'value': 916.7}, {'point_time': '2025-07-02T09:55:00+00:00', 'value': 916.1}, {'point_time': '2025-07-02T10:00:00+00:00', 'value': 914.4}, {'point_time': '2025-07-02T10:05:00+00:00', 'value': 921.7}, {'point_time': '2025-07-02T10:10:00+00:00', 'value': 921.2}, {'point_time': '2025-07-02T10:15:00+00:00', 'value': 922.7}, {'point_time': '2025-07-02T10:20:00+00:00', 'value': 925.1}, {'point_time': '2025-07-02T10:25:00+00:00', 'value': 925.4}, {'point_time': '2025-07-02T10:30:00+00:00', 'value': 925.5}, {'point_time': '2025-07-02T10:35:00+00:00', 'value': 925.4}, {'point_time': '2025-07-02T10:40:00+00:00', 'value': 925.2}, {'point_time': '2025-07-02T10:45:00+00:00', 'value': 924.9}, {'point_time': '2025-07-02T10:50:00+00:00', 'value': 925.0}, {'point_time': '2025-07-02T10:55:00+00:00', 'value': 924.9}, {'point_time': '2025-07-02T11:00:00+00:00', 'value': 923.1}, {'point_time': '2025-07-02T11:05:00+00:00', 'value': 925.2}, {'point_time': '2025-07-02T11:10:00+00:00', 'value': 924.6}, {'point_time': '2025-07-02T11:15:00+00:00', 'value': 921.7}, {'point_time': '2025-07-02T11:20:00+00:00', 'value': 922.2}, {'point_time': '2025-07-02T11:25:00+00:00', 'value': 923.4}, {'point_time': '2025-07-02T11:30:00+00:00', 'value': 941.4}, {'point_time': '2025-07-02T11:35:00+00:00', 'value': 941.8}, {'point_time': '2025-07-02T11:40:00+00:00', 'value': 942.9}, {'point_time': '2025-07-02T11:45:00+00:00', 'value': 943.0}, {'point_time': '2025-07-02T11:50:00+00:00', 'value': 932.3}, {'point_time': '2025-07-02T11:55:00+00:00', 'value': 933.4}, {'point_time': '2025-07-02T12:00:00+00:00', 'value': 921.5}, {'point_time': '2025-07-02T12:05:00+00:00', 'value': 922.4}, {'point_time': '2025-07-02T12:10:00+00:00', 'value': 929.2}, {'point_time': '2025-07-02T12:15:00+00:00', 'value': 930.2}, {'point_time': '2025-07-02T12:20:00+00:00', 'value': 930.2}, {'point_time': '2025-07-02T12:25:00+00:00', 'value': 931.1}, {'point_time': '2025-07-02T12:30:00+00:00', 'value': 932.5}, {'point_time': '2025-07-02T12:35:00+00:00', 'value': 933.1}, {'point_time': '2025-07-02T12:40:00+00:00', 'value': 936.3}, {'point_time': '2025-07-02T12:45:00+00:00', 'value': 936.0}, {'point_time': '2025-07-02T12:50:00+00:00', 'value': 936.2}, {'point_time': '2025-07-02T12:55:00+00:00', 'value': 936.1}, {'point_time': '2025-07-02T13:00:00+00:00', 'value': 933.8}, {'point_time': '2025-07-02T13:05:00+00:00', 'value': 935.3}, {'point_time': '2025-07-02T13:10:00+00:00', 'value': 926.5}, {'point_time': '2025-07-02T13:15:00+00:00', 'value': 928.8}, {'point_time': '2025-07-02T13:20:00+00:00', 'value': 933.4}, {'point_time': '2025-07-02T13:25:00+00:00', 'value': 934.0}, {'point_time': '2025-07-02T13:30:00+00:00', 'value': 927.8}, {'point_time': '2025-07-02T13:35:00+00:00', 'value': 931.6}, {'point_time': '2025-07-02T13:40:00+00:00', 'value': 934.4}, {'point_time': '2025-07-02T13:45:00+00:00', 'value': 936.1}, {'point_time': '2025-07-02T13:50:00+00:00', 'value': 938.1}, {'point_time': '2025-07-02T13:55:00+00:00', 'value': 937.8}, {'point_time': '2025-07-02T14:00:00+00:00', 'value': 937.9}, {'point_time': '2025-07-02T14:05:00+00:00', 'value': 940.9}, {'point_time': '2025-07-02T14:10:00+00:00', 'value': 923.6}, {'point_time': '2025-07-02T14:15:00+00:00', 'value': 897.7}, {'point_time': '2025-07-02T14:20:00+00:00', 'value': 892.5}, {'point_time': '2025-07-02T14:25:00+00:00', 'value': 866.1}, {'point_time': '2025-07-02T14:30:00+00:00', 'value': 886.4}, {'point_time': '2025-07-02T14:35:00+00:00', 'value': 886.0}, {'point_time': '2025-07-02T14:40:00+00:00', 'value': 873.6}, {'point_time': '2025-07-02T14:45:00+00:00', 'value': 873.3}, {'point_time': '2025-07-02T14:50:00+00:00', 'value': 862.0}, {'point_time': '2025-07-02T14:55:00+00:00', 'value': 792.6}, {'point_time': '2025-07-02T15:00:00+00:00', 'value': 841.4}, {'point_time': '2025-07-02T15:05:00+00:00', 'value': 839.2}, {'point_time': '2025-07-02T15:10:00+00:00', 'value': 766.9}, {'point_time': '2025-07-02T15:15:00+00:00', 'value': 728.1}, {'point_time': '2025-07-02T15:20:00+00:00', 'value': 684.5}, {'point_time': '2025-07-02T15:25:00+00:00', 'value': 572.4}, {'point_time': '2025-07-02T15:30:00+00:00', 'value': 543.7}, {'point_time': '2025-07-02T15:35:00+00:00', 'value': 526.5}, {'point_time': '2025-07-02T15:40:00+00:00', 'value': 451.0}, {'point_time': '2025-07-02T15:45:00+00:00', 'value': 447.0}, {'point_time': '2025-07-02T15:50:00+00:00', 'value': 445.8}, {'point_time': '2025-07-02T15:55:00+00:00', 'value': 386.1}, {'point_time': '2025-07-02T16:00:00+00:00', 'value': 335.5}, {'point_time': '2025-07-02T16:05:00+00:00', 'value': 326.9}, {'point_time': '2025-07-02T16:10:00+00:00', 'value': 332.6}, {'point_time': '2025-07-02T16:15:00+00:00', 'value': 300.5}, {'point_time': '2025-07-02T16:20:00+00:00', 'value': 336.5}, {'point_time': '2025-07-02T16:25:00+00:00', 'value': 294.4}, {'point_time': '2025-07-02T16:30:00+00:00', 'value': 294.6}, {'point_time': '2025-07-02T16:35:00+00:00', 'value': 293.9}, {'point_time': '2025-07-02T16:40:00+00:00', 'value': 296.2}, {'point_time': '2025-07-02T16:45:00+00:00', 'value': 339.3}, {'point_time': '2025-07-02T16:50:00+00:00', 'value': 284.7}, {'point_time': '2025-07-02T16:55:00+00:00', 'value': 277.4}, {'point_time': '2025-07-02T17:00:00+00:00', 'value': 251.5}, {'point_time': '2025-07-02T17:05:00+00:00', 'value': 248.3}, {'point_time': '2025-07-02T17:10:00+00:00', 'value': 289.0}, {'point_time': '2025-07-02T17:15:00+00:00', 'value': 250.6}, {'point_time': '2025-07-02T17:20:00+00:00', 'value': 250.8}, {'point_time': '2025-07-02T17:25:00+00:00', 'value': 250.5}, {'point_time': '2025-07-02T17:30:00+00:00', 'value': 267.2}, {'point_time': '2025-07-02T17:35:00+00:00', 'value': 267.1}, {'point_time': '2025-07-02T17:40:00+00:00', 'value': 250.3}, {'point_time': '2025-07-02T17:45:00+00:00', 'value': 250.0}, {'point_time': '2025-07-02T17:50:00+00:00', 'value': 249.7}, {'point_time': '2025-07-02T17:55:00+00:00', 'value': 249.6}, {'point_time': '2025-07-02T18:00:00+00:00', 'value': 213.5}, {'point_time': '2025-07-02T18:05:00+00:00', 'value': 213.6}, {'point_time': '2025-07-02T18:10:00+00:00', 'value': 211.3}, {'point_time': '2025-07-02T18:15:00+00:00', 'value': 211.5}, {'point_time': '2025-07-02T18:20:00+00:00', 'value': 211.6}, {'point_time': '2025-07-02T18:25:00+00:00', 'value': 211.9}, {'point_time': '2025-07-02T18:30:00+00:00', 'value': 212.3}, {'point_time': '2025-07-02T18:35:00+00:00', 'value': 212.5}, {'point_time': '2025-07-02T18:40:00+00:00', 'value': 212.7}, {'point_time': '2025-07-02T18:45:00+00:00', 'value': 215.1}, {'point_time': '2025-07-02T18:50:00+00:00', 'value': 215.6}, {'point_time': '2025-07-02T18:55:00+00:00', 'value': 243.8}, {'point_time': '2025-07-02T19:00:00+00:00', 'value': 220.4}, {'point_time': '2025-07-02T19:05:00+00:00', 'value': 208.9}, {'point_time': '2025-07-02T19:10:00+00:00', 'value': 214.6}, {'point_time': '2025-07-02T19:15:00+00:00', 'value': 213.6}, {'point_time': '2025-07-02T19:20:00+00:00', 'value': 213.4}, {'point_time': '2025-07-02T19:25:00+00:00', 'value': 213.5}, {'point_time': '2025-07-02T19:30:00+00:00', 'value': 224.4}, {'point_time': '2025-07-02T19:35:00+00:00', 'value': 224.7}, {'point_time': '2025-07-02T19:40:00+00:00', 'value': 222.7}, {'point_time': '2025-07-02T19:45:00+00:00', 'value': 235.3}, {'point_time': '2025-07-02T19:50:00+00:00', 'value': 243.4}, {'point_time': '2025-07-02T19:55:00+00:00', 'value': 234.2}, {'point_time': '2025-07-02T20:00:00+00:00', 'value': 235.4}, {'point_time': '2025-07-02T20:05:00+00:00', 'value': 233.2}, {'point_time': '2025-07-02T20:10:00+00:00', 'value': 233.5}, {'point_time': '2025-07-02T20:15:00+00:00', 'value': 260.6}, {'point_time': '2025-07-02T20:20:00+00:00', 'value': 315.5}, {'point_time': '2025-07-02T20:25:00+00:00', 'value': 266.7}, {'point_time': '2025-07-02T20:30:00+00:00', 'value': 314.3}, {'point_time': '2025-07-02T20:35:00+00:00', 'value': 315.2}, {'point_time': '2025-07-02T20:40:00+00:00', 'value': 316.4}, {'point_time': '2025-07-02T20:45:00+00:00', 'value': 319.9}, {'point_time': '2025-07-02T20:50:00+00:00', 'value': 320.6}, {'point_time': '2025-07-02T20:55:00+00:00', 'value': 325.8}, {'point_time': '2025-07-02T21:00:00+00:00', 'value': 274.1}, {'point_time': '2025-07-02T21:05:00+00:00', 'value': 277.3}, {'point_time': '2025-07-02T21:10:00+00:00', 'value': 277.7}, {'point_time': '2025-07-02T21:15:00+00:00', 'value': 278.1}, {'point_time': '2025-07-02T21:20:00+00:00', 'value': 271.7}, {'point_time': '2025-07-02T21:25:00+00:00', 'value': 272.1}, {'point_time': '2025-07-02T21:30:00+00:00', 'value': 272.4}, {'point_time': '2025-07-02T21:35:00+00:00', 'value': 273.0}, {'point_time': '2025-07-02T21:40:00+00:00', 'value': 275.6}, {'point_time': '2025-07-02T21:45:00+00:00', 'value': 271.6}, {'point_time': '2025-07-02T21:50:00+00:00', 'value': 276.7}, {'point_time': '2025-07-02T21:55:00+00:00', 'value': 277.1}, {'point_time': '2025-07-02T22:00:00+00:00', 'value': 319.8}, {'point_time': '2025-07-02T22:05:00+00:00', 'value': 361.1}, {'point_time': '2025-07-02T22:10:00+00:00', 'value': 451.6}, {'point_time': '2025-07-02T22:15:00+00:00', 'value': 299.9}, {'point_time': '2025-07-02T22:20:00+00:00', 'value': 466.5}, {'point_time': '2025-07-02T22:25:00+00:00', 'value': 466.4}, {'point_time': '2025-07-02T22:30:00+00:00', 'value': 463.0}, {'point_time': '2025-07-02T22:35:00+00:00', 'value': 600.1}, {'point_time': '2025-07-02T22:40:00+00:00', 'value': 647.9}, {'point_time': '2025-07-02T22:45:00+00:00', 'value': 690.0}, {'point_time': '2025-07-02T22:50:00+00:00', 'value': 684.1}, {'point_time': '2025-07-02T22:55:00+00:00', 'value': 735.8}, {'point_time': '2025-07-02T23:00:00+00:00', 'value': 727.3}, {'point_time': '2025-07-02T23:05:00+00:00', 'value': 733.8}, {'point_time': '2025-07-02T23:10:00+00:00', 'value': 740.9}, {'point_time': '2025-07-02T23:15:00+00:00', 'value': 755.1}, {'point_time': '2025-07-02T23:20:00+00:00', 'value': 749.6}, {'point_time': '2025-07-02T23:25:00+00:00', 'value': 813.2}, {'point_time': '2025-07-02T23:30:00+00:00', 'value': 793.6}, {'point_time': '2025-07-02T23:35:00+00:00', 'value': 819.0}, {'point_time': '2025-07-02T23:40:00+00:00', 'value': 842.6}, {'point_time': '2025-07-02T23:45:00+00:00', 'value': 850.8}, {'point_time': '2025-07-02T23:50:00+00:00', 'value': 852.1}, {'point_time': '2025-07-02T23:55:00+00:00', 'value': 901.7}, {'point_time': '2025-07-03T00:00:00+00:00', 'value': 911.9}, {'point_time': '2025-07-03T00:05:00+00:00', 'value': 943.3}, {'point_time': '2025-07-03T00:10:00+00:00', 'value': 903.3}, {'point_time': '2025-07-03T00:15:00+00:00', 'value': 922.6}, {'point_time': '2025-07-03T00:20:00+00:00', 'value': 920.9}, {'point_time': '2025-07-03T00:25:00+00:00', 'value': 967.2}, {'point_time': '2025-07-03T00:30:00+00:00', 'value': 968.3}, {'point_time': '2025-07-03T00:35:00+00:00', 'value': 965.1}, {'point_time': '2025-07-03T00:40:00+00:00', 'value': 965.0}, {'point_time': '2025-07-03T00:45:00+00:00', 'value': 965.1}, {'point_time': '2025-07-03T00:50:00+00:00', 'value': 965.2}, {'point_time': '2025-07-03T00:55:00+00:00', 'value': 965.1}, {'point_time': '2025-07-03T01:00:00+00:00', 'value': 954.6}, {'point_time': '2025-07-03T01:05:00+00:00', 'value': 955.8}, {'point_time': '2025-07-03T01:10:00+00:00', 'value': 959.1}, {'point_time': '2025-07-03T01:15:00+00:00', 'value': 973.8}, {'point_time': '2025-07-03T01:20:00+00:00', 'value': 973.8}, {'point_time': '2025-07-03T01:25:00+00:00', 'value': 975.7}, {'point_time': '2025-07-03T01:30:00+00:00', 'value': 974.2}, {'point_time': '2025-07-03T01:35:00+00:00', 'value': 975.9}, {'point_time': '2025-07-03T01:40:00+00:00', 'value': 973.0}, {'point_time': '2025-07-03T01:45:00+00:00', 'value': 975.7}, {'point_time': '2025-07-03T01:50:00+00:00', 'value': 975.9}, {'point_time': '2025-07-03T01:55:00+00:00', 'value': 979.2}, {'point_time': '2025-07-03T02:00:00+00:00', 'value': 991.1}, {'point_time': '2025-07-03T02:05:00+00:00', 'value': 988.2}, {'point_time': '2025-07-03T02:10:00+00:00', 'value': 988.0}, {'point_time': '2025-07-03T02:15:00+00:00', 'value': 986.5}, {'point_time': '2025-07-03T02:20:00+00:00', 'value': 983.7}, {'point_time': '2025-07-03T02:25:00+00:00', 'value': 986.9}, {'point_time': '2025-07-03T02:30:00+00:00', 'value': 986.3}, {'point_time': '2025-07-03T02:35:00+00:00', 'value': 985.9}, {'point_time': '2025-07-03T02:40:00+00:00', 'value': 982.5}, {'point_time': '2025-07-03T02:45:00+00:00', 'value': 984.6}, {'point_time': '2025-07-03T02:50:00+00:00', 'value': 985.0}, {'point_time': '2025-07-03T02:55:00+00:00', 'value': 983.3}, {'point_time': '2025-07-03T03:00:00+00:00', 'value': 980.8}, {'point_time': '2025-07-03T03:05:00+00:00', 'value': 974.6}, {'point_time': '2025-07-03T03:10:00+00:00', 'value': 967.4}, {'point_time': '2025-07-03T03:15:00+00:00', 'value': 961.7}, {'point_time': '2025-07-03T03:20:00+00:00', 'value': 960.9}, {'point_time': '2025-07-03T03:25:00+00:00', 'value': 962.7}, {'point_time': '2025-07-03T03:30:00+00:00', 'value': 962.6}, {'point_time': '2025-07-03T03:35:00+00:00', 'value': 960.3}, {'point_time': '2025-07-03T03:40:00+00:00', 'value': 958.2}, {'point_time': '2025-07-03T03:45:00+00:00', 'value': 958.3}, {'point_time': '2025-07-03T03:50:00+00:00', 'value': 957.9}, {'point_time': '2025-07-03T03:55:00+00:00', 'value': 957.5}, {'point_time': '2025-07-03T04:00:00+00:00', 'value': 963.2}, {'point_time': '2025-07-03T04:05:00+00:00', 'value': 950.7}, {'point_time': '2025-07-03T04:10:00+00:00', 'value': 949.7}, {'point_time': '2025-07-03T04:15:00+00:00', 'value': 951.8}, {'point_time': '2025-07-03T04:20:00+00:00', 'value': 951.6}, {'point_time': '2025-07-03T04:25:00+00:00', 'value': 948.5}, {'point_time': '2025-07-03T04:30:00+00:00', 'value': 947.3}, {'point_time': '2025-07-03T04:35:00+00:00', 'value': 947.0}, {'point_time': '2025-07-03T04:40:00+00:00', 'value': 940.3}, {'point_time': '2025-07-03T04:45:00+00:00', 'value': 941.5}, {'point_time': '2025-07-03T04:50:00+00:00', 'value': 940.8}, {'point_time': '2025-07-03T04:55:00+00:00', 'value': 944.1}, {'point_time': '2025-07-03T05:00:00+00:00', 'value': 941.3}, {'point_time': '2025-07-03T05:05:00+00:00', 'value': 946.6}, {'point_time': '2025-07-03T05:10:00+00:00', 'value': 947.8}, {'point_time': '2025-07-03T05:15:00+00:00', 'value': 947.6}, {'point_time': '2025-07-03T05:20:00+00:00', 'value': 940.6}, {'point_time': '2025-07-03T05:25:00+00:00', 'value': 938.1}, {'point_time': '2025-07-03T05:30:00+00:00', 'value': 935.6}, {'point_time': '2025-07-03T05:35:00+00:00', 'value': 936.2}, {'point_time': '2025-07-03T05:40:00+00:00', 'value': 937.4}, {'point_time': '2025-07-03T05:45:00+00:00', 'value': 936.6}, {'point_time': '2025-07-03T05:50:00+00:00', 'value': 935.6}, {'point_time': '2025-07-03T05:55:00+00:00', 'value': 935.2}, {'point_time': '2025-07-03T06:00:00+00:00', 'value': 936.6}, {'point_time': '2025-07-03T06:05:00+00:00', 'value': 937.7}]\n"
          ]
        },
        {
          "output_type": "execute_result",
          "data": {
            "text/plain": [
              "{'start': '2025-07-02T18:00:00+00:00',\n",
              " 'end': '2025-07-02T19:55:00+00:00',\n",
              " 'avg_intensity': 218.9375}"
            ]
          },
          "metadata": {},
          "execution_count": 8
        }
      ]
    },
    {
      "cell_type": "markdown",
      "source": [
        "### 邊際碳排 (Marginal Operating Emissions Rate, MOER) Index\n",
        "衡量電網在特定時間點，每當電力需求增加或減少一單位時，所導致的二氧化碳排放量變化\n",
        "- percent: 0-100 的相對潔淨度（100 = 最乾淨）"
      ],
      "metadata": {
        "id": "EVlc0xXH13pM"
      }
    },
    {
      "cell_type": "code",
      "source": [
        "url = \"https://api.watttime.org/v3/signal-index\"\n",
        "\n",
        "# Provide your TOKEN here, see https://docs.watttime.org/#tag/Authentication/operation/get_token_login_get for more information\n",
        "TOKEN = get_token()\n",
        "headers = {\"Authorization\": f\"Bearer {TOKEN}\"}\n",
        "params = {\n",
        "    \"region\": \"CAISO_NORTH\",\n",
        "    \"signal_type\": \"co2_moer\",\n",
        "}\n",
        "response = requests.get(url, headers=headers, params=params)\n",
        "response.raise_for_status()\n",
        "print(response.json())"
      ],
      "metadata": {
        "id": "c7EYBle7fAZH",
        "colab": {
          "base_uri": "https://localhost:8080/"
        },
        "outputId": "1693fd6e-b4c5-42c6-be20-feb807396e3a"
      },
      "execution_count": 10,
      "outputs": [
        {
          "output_type": "stream",
          "name": "stdout",
          "text": [
            "{'data': [{'point_time': '2025-07-02T06:30:00+00:00', 'value': 87.0}], 'meta': {'data_point_period_seconds': 300, 'region': 'CAISO_NORTH', 'signal_type': 'co2_moer', 'units': 'percentile', 'warnings': [], 'model': {'date': '2023-03-01'}}}\n"
          ]
        }
      ]
    },
    {
      "cell_type": "code",
      "source": [],
      "metadata": {
        "id": "mln2vyDB1LZg"
      },
      "execution_count": null,
      "outputs": []
    }
  ]
}